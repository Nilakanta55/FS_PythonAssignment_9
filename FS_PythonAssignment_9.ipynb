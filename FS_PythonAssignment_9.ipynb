{
 "cells": [
  {
   "cell_type": "markdown",
   "id": "b94a5634",
   "metadata": {},
   "source": [
    "### 1. To what does a relative path refer?"
   ]
  },
  {
   "cell_type": "markdown",
   "id": "85d1a39f",
   "metadata": {},
   "source": [
    "A relative path refers to a location that is relative to a current directory. Relative paths make use of two special symbols, a dot (.) and a double-dot (..), which translate into the current directory and the parent directory. Double dots are used for moving up in the hierarchy. \n",
    "\n",
    "For example, suppose your documents are in C:\\Sample\\Documents and your index is in C:\\Sample\\Index. The absolute path for the documents would be C:\\Sample\\Documents."
   ]
  },
  {
   "cell_type": "code",
   "execution_count": null,
   "id": "f46a8f96",
   "metadata": {},
   "outputs": [],
   "source": []
  },
  {
   "cell_type": "markdown",
   "id": "f73fe551",
   "metadata": {},
   "source": [
    "### 2. What does an absolute path start with your operating system?"
   ]
  },
  {
   "cell_type": "markdown",
   "id": "126860cb",
   "metadata": {},
   "source": [
    "Absolute paths start with the root folder, such as / or C:\\.\n",
    "\n",
    "Relative path is defined as the path related to the present working directly(pwd). It starts at your current directory and never starts with a /"
   ]
  },
  {
   "cell_type": "code",
   "execution_count": null,
   "id": "d85975a2",
   "metadata": {},
   "outputs": [],
   "source": []
  },
  {
   "cell_type": "markdown",
   "id": "f027084f",
   "metadata": {},
   "source": [
    "### 3.What do the functions os.getcwd() and os.chdir() do?"
   ]
  },
  {
   "cell_type": "markdown",
   "id": "90023ada",
   "metadata": {},
   "source": [
    "getcwd() method tells us the location of current working directory (CWD). Parameter: No parameter is required. Return Value: This method returns a string which represents the current working directory.\n",
    "\n",
    "chdir() method in Python used to change the current working directory to specified path. It takes only a single argument as new directory path.\n",
    "\n",
    "The os.getcwd() function returns the current working directory. The os.chdir() function changes the current working directory."
   ]
  },
  {
   "cell_type": "code",
   "execution_count": null,
   "id": "d911b582",
   "metadata": {},
   "outputs": [],
   "source": []
  },
  {
   "cell_type": "markdown",
   "id": "46fe897d",
   "metadata": {},
   "source": [
    "### 4. What are the . and .. folders?"
   ]
  },
  {
   "cell_type": "markdown",
   "id": "8fc714df",
   "metadata": {},
   "source": [
    "The .. is used to navigate up the hierarchy of the file system. It's useful when you don't want to type a long path, or when writing a script/program that doesn't know where exactly it will be installed but it knows that ../media/ should hold all the images/videos/icons etc.\n",
    "\n",
    "The single dot . is useful in linux where you want to run an executable in the current directory so you type ./a.out because the command shell by default doesn't search the current directory for executable files (for security reasons).\n",
    "\n",
    "The single dot . is also used if you want to pass the current directory as an argument to a command.\n",
    "\n",
    "The . folder is the current folder, and .. is the parent folder."
   ]
  },
  {
   "cell_type": "code",
   "execution_count": null,
   "id": "f5d02c82",
   "metadata": {},
   "outputs": [],
   "source": []
  },
  {
   "cell_type": "markdown",
   "id": "58a3c5bd",
   "metadata": {},
   "source": [
    "### 5. In C:\\bacon\\eggs\\spam.txt, which part is the dir name, and which part is the base name?"
   ]
  },
  {
   "cell_type": "markdown",
   "id": "3d2ede5c",
   "metadata": {},
   "source": [
    "C:\\bacon\\eggs is the dir name, while spam.txt is the base name."
   ]
  },
  {
   "cell_type": "code",
   "execution_count": null,
   "id": "a5d1eed2",
   "metadata": {},
   "outputs": [],
   "source": []
  },
  {
   "cell_type": "markdown",
   "id": "cac24abe",
   "metadata": {},
   "source": [
    "### 6. What are the three “mode” arguments that can be passed to the open() function?"
   ]
  },
  {
   "cell_type": "markdown",
   "id": "99d539f9",
   "metadata": {},
   "source": [
    "We use open () function in Python to open a file in read or write mode. As explained above, open ( ) will return a file object. To return a file object we use open() function along with two arguments, that accepts file name and the mode, whether to read or write. So, the syntax being: open(filename, mode). There are three kinds of mode, that Python provides and how files can be opened:\n",
    "\n",
    "“ r “, for reading.\n",
    "“ w “, for writing.\n",
    "“ a “, for appending.\n",
    "“ r+ “, for both reading and writing\n",
    "One must keep in mind that the mode argument is not mandatory. If not passed, then Python will assume it to be “ r ” by default. Let’s look at this program and try to analyze how the read mode works:\n",
    "\n",
    "A file named \"geek\", will be opened with the reading mode.\n",
    "file = open('geek.txt', 'r')\n",
    "This will print every line one by one in the file\n",
    "for each in file:\n",
    "    print (each)\n",
    "    \n",
    "    \n",
    "The string 'r' for read mode, 'w' for write mode, and 'a' for append mode"
   ]
  },
  {
   "cell_type": "code",
   "execution_count": null,
   "id": "8c8c1980",
   "metadata": {},
   "outputs": [],
   "source": []
  },
  {
   "cell_type": "markdown",
   "id": "2ff4dcc7",
   "metadata": {},
   "source": [
    "### 7. What happens if an existing file is opened in write mode?"
   ]
  },
  {
   "cell_type": "markdown",
   "id": "c6c495e2",
   "metadata": {},
   "source": [
    "To open a file in write mode, “w” is specified. When mode “w” is specified, it creates an empty file for output operations. What if the file already exists? If a file with the same name already exists, its contents are discarded and the file is treated as a new empty file."
   ]
  },
  {
   "cell_type": "code",
   "execution_count": null,
   "id": "5954af70",
   "metadata": {},
   "outputs": [],
   "source": []
  },
  {
   "cell_type": "markdown",
   "id": "941a6845",
   "metadata": {},
   "source": [
    "### 8.How do you tell the difference between read() and readlines()?"
   ]
  },
  {
   "cell_type": "markdown",
   "id": "873ba4c1",
   "metadata": {},
   "source": [
    "The only difference between the Read() and ReadLine() is that Console. Read is used to read only single character from the standard output device, while Console. ReadLine is used to read a line or string from the standard output device.\n",
    "\n",
    "The read() method returns the file's entire contents as a single string value. The readlines() method returns a list of strings, where each string is a line from the file's contents."
   ]
  },
  {
   "cell_type": "code",
   "execution_count": null,
   "id": "b0afdc3c",
   "metadata": {},
   "outputs": [],
   "source": []
  },
  {
   "cell_type": "markdown",
   "id": "f690deb0",
   "metadata": {},
   "source": [
    "### 9.What data structure does a shelf value resemble?"
   ]
  },
  {
   "cell_type": "markdown",
   "id": "e1a94de9",
   "metadata": {},
   "source": [
    "A shelf value resembles a dictionary value; it has keys and values, along with keys() and values() methods that work similarly to the dictionary methods of the same names."
   ]
  },
  {
   "cell_type": "code",
   "execution_count": null,
   "id": "c9b33c1d",
   "metadata": {},
   "outputs": [],
   "source": []
  }
 ],
 "metadata": {
  "kernelspec": {
   "display_name": "Python 3",
   "language": "python",
   "name": "python3"
  },
  "language_info": {
   "codemirror_mode": {
    "name": "ipython",
    "version": 3
   },
   "file_extension": ".py",
   "mimetype": "text/x-python",
   "name": "python",
   "nbconvert_exporter": "python",
   "pygments_lexer": "ipython3",
   "version": "3.8.8"
  }
 },
 "nbformat": 4,
 "nbformat_minor": 5
}
